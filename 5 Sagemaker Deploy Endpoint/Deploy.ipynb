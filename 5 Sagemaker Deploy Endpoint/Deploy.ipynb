{
 "cells": [
  {
   "cell_type": "code",
   "execution_count": 1,
   "id": "e2aca7ab-b3d3-4f1b-b624-c9b21e99ef4d",
   "metadata": {
    "execution": {
     "iopub.execute_input": "2025-06-09T15:52:54.209523Z",
     "iopub.status.busy": "2025-06-09T15:52:54.209243Z",
     "iopub.status.idle": "2025-06-09T15:52:56.816783Z",
     "shell.execute_reply": "2025-06-09T15:52:56.816050Z",
     "shell.execute_reply.started": "2025-06-09T15:52:54.209501Z"
    }
   },
   "outputs": [
    {
     "name": "stdout",
     "output_type": "stream",
     "text": [
      "sagemaker.config INFO - Not applying SDK defaults from location: /etc/xdg/sagemaker/config.yaml\n",
      "sagemaker.config INFO - Not applying SDK defaults from location: /home/sagemaker-user/.config/sagemaker/config.yaml\n"
     ]
    }
   ],
   "source": [
    "from sagemaker.model import Model\n",
    "from sagemaker.predictor import Predictor\n",
    "from sagemaker.serializers import JSONSerializer\n",
    "from sagemaker.deserializers import JSONDeserializer\n",
    "from sagemaker import get_execution_role\n",
    "import sagemaker\n",
    "import boto3"
   ]
  },
  {
   "cell_type": "code",
   "execution_count": null,
   "id": "897c1991-0d1d-4d9e-9df8-c3bdb533615a",
   "metadata": {
    "execution": {
     "iopub.execute_input": "2025-06-09T15:52:57.917587Z",
     "iopub.status.busy": "2025-06-09T15:52:57.917175Z",
     "iopub.status.idle": "2025-06-09T15:52:58.083278Z",
     "shell.execute_reply": "2025-06-09T15:52:58.082500Z",
     "shell.execute_reply.started": "2025-06-09T15:52:57.917561Z"
    }
   },
   "outputs": [],
   "source": [
    "role = get_execution_role()\n",
    "model_uri = \"<model-url>\"  # this is the saved model"
   ]
  },
  {
   "cell_type": "code",
   "execution_count": 3,
   "id": "5f6fc4f5-1413-48ab-b988-cde65d4538ec",
   "metadata": {
    "execution": {
     "iopub.execute_input": "2025-06-09T15:52:58.812094Z",
     "iopub.status.busy": "2025-06-09T15:52:58.811318Z",
     "iopub.status.idle": "2025-06-09T15:52:58.989389Z",
     "shell.execute_reply": "2025-06-09T15:52:58.988718Z",
     "shell.execute_reply.started": "2025-06-09T15:52:58.812064Z"
    }
   },
   "outputs": [],
   "source": [
    "model = Model(\n",
    "    model_data=model_uri,\n",
    "    image_uri=sagemaker.image_uris.retrieve(\"sklearn\", boto3.Session().region_name, version=\"0.23-1\"),\n",
    "    role=role,\n",
    "    entry_point=\"inference.py\",\n",
    "    source_dir=\".\",\n",
    "    predictor_cls=Predictor,\n",
    "    sagemaker_session=sagemaker.Session()\n",
    ")"
   ]
  },
  {
   "cell_type": "code",
   "execution_count": null,
   "id": "574036f3-db2d-4272-8cb7-536e68c39256",
   "metadata": {
    "execution": {
     "iopub.execute_input": "2025-06-09T15:52:59.581922Z",
     "iopub.status.busy": "2025-06-09T15:52:59.581279Z",
     "iopub.status.idle": "2025-06-09T16:06:46.602131Z",
     "shell.execute_reply": "2025-06-09T16:06:46.601416Z",
     "shell.execute_reply.started": "2025-06-09T15:52:59.581895Z"
    }
   },
   "outputs": [
    {
     "name": "stdout",
     "output_type": "stream",
     "text": [
      "-----------!"
     ]
    }
   ],
   "source": [
    "predictor = model.deploy(\n",
    "    initial_instance_count=1,\n",
    "    instance_type=\"ml.c5.4xlarge\",\n",
    "    endpoint_name=\"<endpoint-name>\",\n",
    "    serializer=JSONSerializer(),\n",
    "    deserializer=JSONDeserializer()\n",
    ")"
   ]
  },
  {
   "cell_type": "code",
   "execution_count": null,
   "id": "af54ff21-b7af-430e-89d0-6fa26ce2d541",
   "metadata": {
    "execution": {
     "iopub.execute_input": "2025-06-09T16:34:01.849507Z",
     "iopub.status.busy": "2025-06-09T16:34:01.849056Z",
     "iopub.status.idle": "2025-06-09T16:34:04.251087Z",
     "shell.execute_reply": "2025-06-09T16:34:04.250251Z",
     "shell.execute_reply.started": "2025-06-09T16:34:01.849482Z"
    }
   },
   "outputs": [
    {
     "name": "stdout",
     "output_type": "stream",
     "text": [
      "[{\"ASIN\": \"B001CZVVVO\", \"productName\": \"The Berlin Concert: Live From the \\\"Waldb\\u00fchne\\\" [Blu-ray]\", \"expectedRating\": 5}, {\"ASIN\": \"B003ZJK4HW\", \"productName\": \"A Christmas Snow\", \"expectedRating\": 5}, {\"ASIN\": \"B007VUJ9E0\", \"productName\": \"The Victor Marx Story DVD- When Impossible Is The Only Way Out!\", \"expectedRating\": 5}, {\"ASIN\": \"B00CEIOH9G\", \"productName\": \"Babette's Feast (The Criterion Collection) [Blu-ray]\", \"expectedRating\": 5}, {\"ASIN\": \"B013W7LURO\", \"productName\": \"Seymour: An Introduction\", \"expectedRating\": 5}, {\"ASIN\": \"B072MPKS9J\", \"productName\": \"That Day Is Coming\", \"expectedRating\": 5}, {\"ASIN\": \"B0006QAIFA\", \"productName\": \"Roy Orbison - Black & White Night (DVD & DVD Audio)\", \"expectedRating\": 5}, {\"ASIN\": \"B000G1R394\", \"productName\": \"Akeelah and the Bee (Widescreen Edition)\", \"expectedRating\": 5}, {\"ASIN\": \"B004LWZWDS\", \"productName\": \"Dangerous Liaisons [Blu-ray]\", \"expectedRating\": 5}, {\"ASIN\": \"B00GFJ0UPU\", \"productName\": \"Rugrats\", \"expectedRating\": 5}]\n"
     ]
    }
   ],
   "source": [
    "import boto3\n",
    "import json\n",
    "sagemaker_runtime = boto3.client('runtime.sagemaker', region_name=\"<region-name>\")\n",
    "\n",
    "endpoint_name = \"<endpoint-name>\"\n",
    "\n",
    "response = sagemaker_runtime.invoke_endpoint(\n",
    "        EndpointName=endpoint_name,\n",
    "        ContentType='application/json',\n",
    "        Body=json.dumps({\"UserID\": \"AE4BUAG3OE7PTW5ZXVIDJQTQIDUQ\"})\n",
    ")\n",
    "print(response['Body'].read().decode('utf-8'))"
   ]
  },
  {
   "cell_type": "code",
   "execution_count": 19,
   "id": "d5d3ab36-a49d-48fb-8a8d-0fc36be1fbe8",
   "metadata": {
    "execution": {
     "iopub.execute_input": "2025-06-09T16:33:55.661358Z",
     "iopub.status.busy": "2025-06-09T16:33:55.660759Z",
     "iopub.status.idle": "2025-06-09T16:33:58.135418Z",
     "shell.execute_reply": "2025-06-09T16:33:58.134536Z",
     "shell.execute_reply.started": "2025-06-09T16:33:55.661331Z"
    }
   },
   "outputs": [
    {
     "name": "stdout",
     "output_type": "stream",
     "text": [
      "Recommended Products: [{'ASIN': 'B001CZVVVO', 'productName': 'The Berlin Concert: Live From the \"Waldbühne\" [Blu-ray]', 'expectedRating': 5}, {'ASIN': 'B003ZJK4HW', 'productName': 'A Christmas Snow', 'expectedRating': 5}, {'ASIN': 'B007VUJ9E0', 'productName': 'The Victor Marx Story DVD- When Impossible Is The Only Way Out!', 'expectedRating': 5}, {'ASIN': 'B00CEIOH9G', 'productName': \"Babette's Feast (The Criterion Collection) [Blu-ray]\", 'expectedRating': 5}, {'ASIN': 'B013W7LURO', 'productName': 'Seymour: An Introduction', 'expectedRating': 5}, {'ASIN': 'B072MPKS9J', 'productName': 'That Day Is Coming', 'expectedRating': 5}, {'ASIN': 'B0006QAIFA', 'productName': 'Roy Orbison - Black & White Night (DVD & DVD Audio)', 'expectedRating': 5}, {'ASIN': 'B000G1R394', 'productName': 'Akeelah and the Bee (Widescreen Edition)', 'expectedRating': 5}, {'ASIN': 'B004LWZWDS', 'productName': 'Dangerous Liaisons [Blu-ray]', 'expectedRating': 5}, {'ASIN': 'B00GFJ0UPU', 'productName': 'Rugrats', 'expectedRating': 5}]\n"
     ]
    }
   ],
   "source": [
    "test_payload = {\n",
    "    \"UserID\": \"AE4BUAG3OE7PTW5ZXVIDJQTQIDUQ\"  # replace with a real UserID from your dataset\n",
    "}\n",
    "\n",
    "response = predictor.predict(test_payload)\n",
    "print(\"Recommended Products:\", response)"
   ]
  },
  {
   "cell_type": "code",
   "execution_count": null,
   "id": "6f031adf-e55e-4b9c-b4a7-fdacb626145c",
   "metadata": {
    "execution": {
     "iopub.execute_input": "2025-06-06T17:57:59.581609Z",
     "iopub.status.busy": "2025-06-06T17:57:59.581327Z",
     "iopub.status.idle": "2025-06-06T17:58:01.071379Z",
     "shell.execute_reply": "2025-06-06T17:58:01.070166Z",
     "shell.execute_reply.started": "2025-06-06T17:57:59.581589Z"
    }
   },
   "outputs": [],
   "source": [
    "import boto3\n",
    "import sagemaker\n",
    "\n",
    "sm_client = boto3.client('sagemaker')\n",
    "\n",
    "endpoint_name = \"<endpoint-name>\"  # Replace with your actual endpoint name\n",
    "\n",
    "# 1. Delete the endpoint\n",
    "sm_client.delete_endpoint(EndpointName=endpoint_name)\n",
    "print(f\"Deleted endpoint: {endpoint_name}\")\n",
    "\n",
    "# 2. Delete the endpoint configuration\n",
    "sm_client.delete_endpoint_config(EndpointConfigName=endpoint_name)\n",
    "print(f\"Deleted endpoint config: {endpoint_name}\")"
   ]
  },
  {
   "cell_type": "code",
   "execution_count": null,
   "id": "c3f1b069-6ddd-4b29-a83a-b6e7e012f20e",
   "metadata": {},
   "outputs": [],
   "source": []
  }
 ],
 "metadata": {
  "kernelspec": {
   "display_name": "Python 3 (ipykernel)",
   "language": "python",
   "name": "python3"
  },
  "language_info": {
   "codemirror_mode": {
    "name": "ipython",
    "version": 3
   },
   "file_extension": ".py",
   "mimetype": "text/x-python",
   "name": "python",
   "nbconvert_exporter": "python",
   "pygments_lexer": "ipython3",
   "version": "3.12.9"
  }
 },
 "nbformat": 4,
 "nbformat_minor": 5
}
