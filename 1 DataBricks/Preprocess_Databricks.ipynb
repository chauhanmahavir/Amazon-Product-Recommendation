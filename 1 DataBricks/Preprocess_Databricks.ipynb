{
 "cells": [
  {
   "cell_type": "code",
   "execution_count": 1,
   "metadata": {},
   "outputs": [],
   "source": [
    "from pyspark.sql.functions import col, when, sum, coalesce, lit, concat_ws\n",
    "from pyspark.sql.functions import udf\n",
    "from pyspark.sql.types import StructType, StructField, StringType, IntegerType, BooleanType, LongType, FloatType, MapType, ArrayType\n",
    "import re\n",
    "import demoji"
   ]
  },
  {
   "cell_type": "code",
   "execution_count": 2,
   "metadata": {},
   "outputs": [
    {
     "name": "stderr",
     "output_type": "stream",
     "text": [
      "ERROR StatusLogger Reconfiguration failed: No configuration found for '5ffd2b27' at 'null' in 'null'\n",
      "ERROR StatusLogger Reconfiguration failed: No configuration found for 'Default' at 'null' in 'null'\n",
      "25/04/04 12:24:21 WARN Utils: Your hostname, Mahaveers-MacBook-Pro.local resolves to a loopback address: 127.0.0.1; using 192.168.1.9 instead (on interface en0)\n",
      "25/04/04 12:24:21 WARN Utils: Set SPARK_LOCAL_IP if you need to bind to another address\n"
     ]
    },
    {
     "name": "stdout",
     "output_type": "stream",
     "text": [
      ":: loading settings :: url = jar:file:/Library/Spark3.5/spark-3.5.4-bin-hadoop3/jars/ivy-2.5.1.jar!/org/apache/ivy/core/settings/ivysettings.xml\n"
     ]
    },
    {
     "name": "stderr",
     "output_type": "stream",
     "text": [
      "Ivy Default Cache set to: /Users/mahaveerchauhan/.ivy2/cache\n",
      "The jars for the packages stored in: /Users/mahaveerchauhan/.ivy2/jars\n",
      "org.apache.spark#spark-avro_2.12 added as a dependency\n",
      ":: resolving dependencies :: org.apache.spark#spark-submit-parent-f06c001c-06b3-40c1-bda5-1ae33a4c1e33;1.0\n",
      "\tconfs: [default]\n",
      "\tfound org.apache.spark#spark-avro_2.12;3.5.4 in central\n",
      "\tfound org.tukaani#xz;1.9 in local-m2-cache\n",
      ":: resolution report :: resolve 84ms :: artifacts dl 2ms\n",
      "\t:: modules in use:\n",
      "\torg.apache.spark#spark-avro_2.12;3.5.4 from central in [default]\n",
      "\torg.tukaani#xz;1.9 from local-m2-cache in [default]\n",
      "\t---------------------------------------------------------------------\n",
      "\t|                  |            modules            ||   artifacts   |\n",
      "\t|       conf       | number| search|dwnlded|evicted|| number|dwnlded|\n",
      "\t---------------------------------------------------------------------\n",
      "\t|      default     |   2   |   0   |   0   |   0   ||   2   |   0   |\n",
      "\t---------------------------------------------------------------------\n",
      ":: retrieving :: org.apache.spark#spark-submit-parent-f06c001c-06b3-40c1-bda5-1ae33a4c1e33\n",
      "\tconfs: [default]\n",
      "\t0 artifacts copied, 2 already retrieved (0kB/2ms)\n",
      "25/04/04 12:24:22 WARN NativeCodeLoader: Unable to load native-hadoop library for your platform... using builtin-java classes where applicable\n",
      "Setting default log level to \"WARN\".\n",
      "To adjust logging level use sc.setLogLevel(newLevel). For SparkR, use setLogLevel(newLevel).\n"
     ]
    }
   ],
   "source": [
    "from pyspark.sql import SparkSession\n",
    "\n",
    "# Initialize Spark session\n",
    "spark = SparkSession.builder \\\n",
    "    .appName(\"Read JSON Example\") \\\n",
    "    .config(\"spark.driver.memory\", \"15g\") \\\n",
    "    .master(\"local[*]\") \\\n",
    "    .getOrCreate()"
   ]
  },
  {
   "cell_type": "code",
   "execution_count": 3,
   "metadata": {},
   "outputs": [],
   "source": [
    "review_schema = StructType([\n",
    "    StructField(\"rating\", FloatType(), True),\n",
    "    StructField(\"title\", StringType(), True),\n",
    "    StructField(\"text\", StringType(), True),\n",
    "    StructField(\"images\", ArrayType(StringType()), True),\n",
    "    StructField(\"asin\", StringType(), True),\n",
    "    StructField(\"parent_asin\", StringType(), True),\n",
    "    StructField(\"user_id\", StringType(), True),\n",
    "    StructField(\"timestamp\", LongType(), True),\n",
    "    StructField(\"helpful_vote\", IntegerType(), True),\n",
    "    StructField(\"verified_purchase\", BooleanType(), True)\n",
    "])"
   ]
  },
  {
   "cell_type": "code",
   "execution_count": 4,
   "metadata": {},
   "outputs": [
    {
     "name": "stdout",
     "output_type": "stream",
     "text": [
      "+------+--------------------+--------------------+--------------------+----------+-----------+--------------------+-------------+------------+-----------------+\n",
      "|rating|               title|                text|              images|      asin|parent_asin|             user_id|    timestamp|helpful_vote|verified_purchase|\n",
      "+------+--------------------+--------------------+--------------------+----------+-----------+--------------------+-------------+------------+-----------------+\n",
      "|   4.0|No white backgrou...|I bought this bc ...|[{\"small_image_ur...|B08L6L3X1S| B08L6L3X1S|AFKZENTNBQ7A7V7UX...|1612044451196|           0|             true|\n",
      "|   5.0|Awesome!  Great p...|Perfect. How piss...|                  []|B079BPGF6C| B079BPGF6C|AFKZENTNBQ7A7V7UX...|1534443517349|           2|             true|\n",
      "|   5.0|Worked but took a...|Overall very happ...|[{\"small_image_ur...|B088DR7Z5B| B0BBGGC8F2|AGCI7FAH4GL5FI65H...|1629235304798|           3|             true|\n",
      "|   4.0|              Decent|Lasted about 9 mo...|[{\"small_image_ur...|B07XRDHDNQ| B07XRDHDNQ|AGCI7FAH4GL5FI65H...|1590470082910|           0|             true|\n",
      "|   5.0|            LOVE IT!|LOVE THIS CASE! W...|                  []|B00A8ZDL9Y| B00A8ZDL9Y|AGCI7FAH4GL5FI65H...|1408994588000|           0|             true|\n",
      "|   5.0|Works Great with ...|This item works g...|                  []|B09KH3Z9MF| B0BX2GG16C|AGXVBIUFLFGMVLATY...|1646753573910|           0|             true|\n",
      "|   5.0|Great item! Easy ...|Item came as desc...|                  []|B09DCSNDT3| B09DCT39P2|AGXVBIUFLFGMVLATY...|1644932513079|           0|             true|\n",
      "|   4.0|          Four Stars|Stocking stuffers...|                  []|B00UKXP6Y2| B07CKPPSB4|AGXVBIUFLFGMVLATY...|1485870336000|           0|             true|\n",
      "|   5.0|It is a great val...|My son loves his ...|                  []|B00W3C3ISY| B00W3C3ISY|AGXVBIUFLFGMVLATY...|1461331211000|           0|             true|\n",
      "|   5.0|Good to have thes...|These work. It is...|                  []|B07NPMQPS9| B07NPMQPS9|AGKHLEW2SOWHNMFQI...|1557757311964|           0|             true|\n",
      "|   5.0|         These work!|These really work...|                  []|B07MV4KV8S| B09TSCZWX5|AGKHLEW2SOWHNMFQI...|1557757060457|           1|             true|\n",
      "|   5.0|Finally something...|These big phones ...|                  []|B01JTI3VIG| B01JTI3VIG|AGKHLEW2SOWHNMFQI...|1557756883381|           0|             true|\n",
      "|   5.0|Great, great, great!|Works great, look...|                  []|B01MZIG15J| B06VXYPWMC|AGKHLEW2SOWHNMFQI...|1530231902311|           0|             true|\n",
      "|   5.0|        Great value!|Some people have ...|                  []|B01JTI2K3S| B08FLGTLBQ|AGKHLEW2SOWHNMFQI...|1530231753869|           0|             true|\n",
      "|   4.0|Great fit and lov...|Great fit and lov...|                  []|B01LVXS6C0| B01LVXS6C0|AGKHLEW2SOWHNMFQI...|1519316898712|           0|             true|\n",
      "|   3.0|             It's ok|It's hard to sepa...|                  []|B0719X5WJ5| B0719X5WJ5|AGKHLEW2SOWHNMFQI...|1504830208331|           0|             true|\n",
      "|   2.0|Don't try to tigh...|Putting it on a n...|                  []|B07KJH11VV| B07KJH11VV|AFE337D2J37YRU5U6...|1606781266760|           0|             true|\n",
      "|   5.0|Does a good job o...|We've survived a ...|                  []|B0746YX7J7| B0746YX7J7|AGBFYI2DDIKXC5Y4F...|1540324237308|           0|             true|\n",
      "|   5.0|Light, good sound...|I got these for m...|                  []|B086WK9QH7| B0C5XPBMHM|AFTC6ZR5IKNRDG5JC...|1599158604740|           0|             true|\n",
      "|   5.0|    Perfect and easy|Went on perfect. ...|                  []|B00UH8KUMS| B00UH8KUMS|AFTC6ZR5IKNRDG5JC...|1434660130000|           0|             true|\n",
      "+------+--------------------+--------------------+--------------------+----------+-----------+--------------------+-------------+------------+-----------------+\n",
      "only showing top 20 rows\n",
      "\n"
     ]
    }
   ],
   "source": [
    "review_df = spark.read.schema(review_schema).json(\"./Amazon_Review_Dataset/Cell_Phones_and_Accessories/Cell_Phones_and_Accessories.jsonl\")\n",
    "review_df.show()"
   ]
  },
  {
   "cell_type": "code",
   "execution_count": 5,
   "metadata": {},
   "outputs": [
    {
     "name": "stderr",
     "output_type": "stream",
     "text": [
      "[Stage 1:=============================================>          (57 + 13) / 70]\r"
     ]
    },
    {
     "name": "stdout",
     "output_type": "stream",
     "text": [
      "Number of rows: 20812945\n"
     ]
    },
    {
     "name": "stderr",
     "output_type": "stream",
     "text": [
      "                                                                                \r"
     ]
    }
   ],
   "source": [
    "print(\"Number of rows:\", review_df.count())"
   ]
  },
  {
   "cell_type": "code",
   "execution_count": 6,
   "metadata": {},
   "outputs": [
    {
     "name": "stderr",
     "output_type": "stream",
     "text": [
      "[Stage 4:=============================================>          (57 + 13) / 70]\r"
     ]
    },
    {
     "name": "stdout",
     "output_type": "stream",
     "text": [
      "+------+-----+----+------+----+-----------+-------+---------+------------+-----------------+\n",
      "|rating|title|text|images|asin|parent_asin|user_id|timestamp|helpful_vote|verified_purchase|\n",
      "+------+-----+----+------+----+-----------+-------+---------+------------+-----------------+\n",
      "|     0|    0|   0|     0|   0|          0|      0|        0|           0|                0|\n",
      "+------+-----+----+------+----+-----------+-------+---------+------------+-----------------+\n",
      "\n"
     ]
    },
    {
     "name": "stderr",
     "output_type": "stream",
     "text": [
      "                                                                                \r"
     ]
    }
   ],
   "source": [
    "null_counts = review_df.select([\n",
    "    (when(col(c).isNull(), 1).otherwise(0)).alias(c) for c in review_df.columns\n",
    "])\n",
    "\n",
    "null_counts_summary = null_counts.agg(*[sum(col(c)).alias(c) for c in null_counts.columns])\n",
    "\n",
    "null_counts_summary.show()"
   ]
  },
  {
   "cell_type": "code",
   "execution_count": null,
   "metadata": {},
   "outputs": [
    {
     "name": "stdout",
     "output_type": "stream",
     "text": [
      "+------+--------------------+--------------------+--------------------+----------+-----------+--------------------+-------------+------------+-----------------+\n",
      "|rating|               title|                text|              images|      asin|parent_asin|             user_id|    timestamp|helpful_vote|verified_purchase|\n",
      "+------+--------------------+--------------------+--------------------+----------+-----------+--------------------+-------------+------------+-----------------+\n",
      "|   4.0|No white backgrou...|I bought this bc ...|[{\"small_image_ur...|B08L6L3X1S| B08L6L3X1S|AFKZENTNBQ7A7V7UX...|1612044451196|           0|             true|\n",
      "|   5.0|Awesome!  Great p...|Perfect. How piss...|                  []|B079BPGF6C| B079BPGF6C|AFKZENTNBQ7A7V7UX...|1534443517349|           2|             true|\n",
      "|   5.0|Worked but took a...|Overall very happ...|[{\"small_image_ur...|B088DR7Z5B| B0BBGGC8F2|AGCI7FAH4GL5FI65H...|1629235304798|           3|             true|\n",
      "|   4.0|              Decent|Lasted about 9 mo...|[{\"small_image_ur...|B07XRDHDNQ| B07XRDHDNQ|AGCI7FAH4GL5FI65H...|1590470082910|           0|             true|\n",
      "|   5.0|            LOVE IT!|LOVE THIS CASE! W...|                  []|B00A8ZDL9Y| B00A8ZDL9Y|AGCI7FAH4GL5FI65H...|1408994588000|           0|             true|\n",
      "|   5.0|Works Great with ...|This item works g...|                  []|B09KH3Z9MF| B0BX2GG16C|AGXVBIUFLFGMVLATY...|1646753573910|           0|             true|\n",
      "|   5.0|Great item! Easy ...|Item came as desc...|                  []|B09DCSNDT3| B09DCT39P2|AGXVBIUFLFGMVLATY...|1644932513079|           0|             true|\n",
      "|   4.0|          Four Stars|Stocking stuffers...|                  []|B00UKXP6Y2| B07CKPPSB4|AGXVBIUFLFGMVLATY...|1485870336000|           0|             true|\n",
      "|   5.0|It is a great val...|My son loves his ...|                  []|B00W3C3ISY| B00W3C3ISY|AGXVBIUFLFGMVLATY...|1461331211000|           0|             true|\n",
      "|   5.0|Good to have thes...|These work. It is...|                  []|B07NPMQPS9| B07NPMQPS9|AGKHLEW2SOWHNMFQI...|1557757311964|           0|             true|\n",
      "|   5.0|         These work!|These really work...|                  []|B07MV4KV8S| B09TSCZWX5|AGKHLEW2SOWHNMFQI...|1557757060457|           1|             true|\n",
      "|   5.0|Finally something...|These big phones ...|                  []|B01JTI3VIG| B01JTI3VIG|AGKHLEW2SOWHNMFQI...|1557756883381|           0|             true|\n",
      "|   5.0|Great, great, great!|Works great, look...|                  []|B01MZIG15J| B06VXYPWMC|AGKHLEW2SOWHNMFQI...|1530231902311|           0|             true|\n",
      "|   5.0|        Great value!|Some people have ...|                  []|B01JTI2K3S| B08FLGTLBQ|AGKHLEW2SOWHNMFQI...|1530231753869|           0|             true|\n",
      "|   4.0|Great fit and lov...|Great fit and lov...|                  []|B01LVXS6C0| B01LVXS6C0|AGKHLEW2SOWHNMFQI...|1519316898712|           0|             true|\n",
      "|   3.0|             It's ok|It's hard to sepa...|                  []|B0719X5WJ5| B0719X5WJ5|AGKHLEW2SOWHNMFQI...|1504830208331|           0|             true|\n",
      "|   2.0|Don't try to tigh...|Putting it on a n...|                  []|B07KJH11VV| B07KJH11VV|AFE337D2J37YRU5U6...|1606781266760|           0|             true|\n",
      "|   5.0|Does a good job o...|We've survived a ...|                  []|B0746YX7J7| B0746YX7J7|AGBFYI2DDIKXC5Y4F...|1540324237308|           0|             true|\n",
      "|   5.0|Light, good sound...|I got these for m...|                  []|B086WK9QH7| B0C5XPBMHM|AFTC6ZR5IKNRDG5JC...|1599158604740|           0|             true|\n",
      "|   5.0|    Perfect and easy|Went on perfect. ...|                  []|B00UH8KUMS| B00UH8KUMS|AFTC6ZR5IKNRDG5JC...|1434660130000|           0|             true|\n",
      "+------+--------------------+--------------------+--------------------+----------+-----------+--------------------+-------------+------------+-----------------+\n",
      "only showing top 20 rows\n",
      "\n"
     ]
    }
   ],
   "source": [
    "review_df = review_df.dropna()\n",
    "\n",
    "review_df.show()"
   ]
  },
  {
   "cell_type": "code",
   "execution_count": null,
   "metadata": {},
   "outputs": [
    {
     "name": "stdout",
     "output_type": "stream",
     "text": [
      "+--------------------+----------+-----------+--------------------+--------------------+------+-----------------+-------------+\n",
      "|             user_id|      asin|parent_asin|               title|                text|rating|verified_purchase|    timestamp|\n",
      "+--------------------+----------+-----------+--------------------+--------------------+------+-----------------+-------------+\n",
      "|AFKZENTNBQ7A7V7UX...|B08L6L3X1S| B08L6L3X1S|No white backgrou...|I bought this bc ...|   4.0|             true|1612044451196|\n",
      "|AFKZENTNBQ7A7V7UX...|B079BPGF6C| B079BPGF6C|Awesome!  Great p...|Perfect. How piss...|   5.0|             true|1534443517349|\n",
      "|AGCI7FAH4GL5FI65H...|B088DR7Z5B| B0BBGGC8F2|Worked but took a...|Overall very happ...|   5.0|             true|1629235304798|\n",
      "|AGCI7FAH4GL5FI65H...|B07XRDHDNQ| B07XRDHDNQ|              Decent|Lasted about 9 mo...|   4.0|             true|1590470082910|\n",
      "|AGCI7FAH4GL5FI65H...|B00A8ZDL9Y| B00A8ZDL9Y|            LOVE IT!|LOVE THIS CASE! W...|   5.0|             true|1408994588000|\n",
      "|AGXVBIUFLFGMVLATY...|B09KH3Z9MF| B0BX2GG16C|Works Great with ...|This item works g...|   5.0|             true|1646753573910|\n",
      "|AGXVBIUFLFGMVLATY...|B09DCSNDT3| B09DCT39P2|Great item! Easy ...|Item came as desc...|   5.0|             true|1644932513079|\n",
      "|AGXVBIUFLFGMVLATY...|B00UKXP6Y2| B07CKPPSB4|          Four Stars|Stocking stuffers...|   4.0|             true|1485870336000|\n",
      "|AGXVBIUFLFGMVLATY...|B00W3C3ISY| B00W3C3ISY|It is a great val...|My son loves his ...|   5.0|             true|1461331211000|\n",
      "|AGKHLEW2SOWHNMFQI...|B07NPMQPS9| B07NPMQPS9|Good to have thes...|These work. It is...|   5.0|             true|1557757311964|\n",
      "|AGKHLEW2SOWHNMFQI...|B07MV4KV8S| B09TSCZWX5|         These work!|These really work...|   5.0|             true|1557757060457|\n",
      "|AGKHLEW2SOWHNMFQI...|B01JTI3VIG| B01JTI3VIG|Finally something...|These big phones ...|   5.0|             true|1557756883381|\n",
      "|AGKHLEW2SOWHNMFQI...|B01MZIG15J| B06VXYPWMC|Great, great, great!|Works great, look...|   5.0|             true|1530231902311|\n",
      "|AGKHLEW2SOWHNMFQI...|B01JTI2K3S| B08FLGTLBQ|        Great value!|Some people have ...|   5.0|             true|1530231753869|\n",
      "|AGKHLEW2SOWHNMFQI...|B01LVXS6C0| B01LVXS6C0|Great fit and lov...|Great fit and lov...|   4.0|             true|1519316898712|\n",
      "|AGKHLEW2SOWHNMFQI...|B0719X5WJ5| B0719X5WJ5|             It's ok|It's hard to sepa...|   3.0|             true|1504830208331|\n",
      "|AFE337D2J37YRU5U6...|B07KJH11VV| B07KJH11VV|Don't try to tigh...|Putting it on a n...|   2.0|             true|1606781266760|\n",
      "|AGBFYI2DDIKXC5Y4F...|B0746YX7J7| B0746YX7J7|Does a good job o...|We've survived a ...|   5.0|             true|1540324237308|\n",
      "|AFTC6ZR5IKNRDG5JC...|B086WK9QH7| B0C5XPBMHM|Light, good sound...|I got these for m...|   5.0|             true|1599158604740|\n",
      "|AFTC6ZR5IKNRDG5JC...|B00UH8KUMS| B00UH8KUMS|    Perfect and easy|Went on perfect. ...|   5.0|             true|1434660130000|\n",
      "+--------------------+----------+-----------+--------------------+--------------------+------+-----------------+-------------+\n",
      "only showing top 20 rows\n",
      "\n"
     ]
    }
   ],
   "source": [
    "filtered_review_df = review_df.select(\"user_id\", \"asin\", \"parent_asin\", \"title\", \"text\", \"rating\", \"verified_purchase\", \"timestamp\")\n",
    "\n",
    "filtered_review_df.show()"
   ]
  },
  {
   "cell_type": "code",
   "execution_count": 9,
   "metadata": {},
   "outputs": [
    {
     "name": "stderr",
     "output_type": "stream",
     "text": [
      "[Stage 9:=============================================>          (57 + 13) / 70]\r"
     ]
    },
    {
     "name": "stdout",
     "output_type": "stream",
     "text": [
      "Number of rows: 20812945\n"
     ]
    },
    {
     "name": "stderr",
     "output_type": "stream",
     "text": [
      "                                                                                \r"
     ]
    }
   ],
   "source": [
    "print(\"Number of rows:\", filtered_review_df.count())"
   ]
  },
  {
   "cell_type": "code",
   "execution_count": null,
   "metadata": {},
   "outputs": [
    {
     "name": "stdout",
     "output_type": "stream",
     "text": [
      "+--------------------+----------+-----------+--------------------+--------------------+------+-----------------+-------------+\n",
      "|             user_id|      asin|parent_asin|               title|                text|rating|verified_purchase|    timestamp|\n",
      "+--------------------+----------+-----------+--------------------+--------------------+------+-----------------+-------------+\n",
      "|AFKZENTNBQ7A7V7UX...|B08L6L3X1S| B08L6L3X1S|No white backgrou...|I bought this bc ...|   4.0|             true|1612044451196|\n",
      "|AFKZENTNBQ7A7V7UX...|B079BPGF6C| B079BPGF6C|Awesome!  Great p...|Perfect. How piss...|   5.0|             true|1534443517349|\n",
      "|AGCI7FAH4GL5FI65H...|B088DR7Z5B| B0BBGGC8F2|Worked but took a...|Overall very happ...|   5.0|             true|1629235304798|\n",
      "|AGCI7FAH4GL5FI65H...|B07XRDHDNQ| B07XRDHDNQ|              Decent|Lasted about 9 mo...|   4.0|             true|1590470082910|\n",
      "|AGCI7FAH4GL5FI65H...|B00A8ZDL9Y| B00A8ZDL9Y|            LOVE IT!|LOVE THIS CASE! W...|   5.0|             true|1408994588000|\n",
      "|AGXVBIUFLFGMVLATY...|B09KH3Z9MF| B0BX2GG16C|Works Great with ...|This item works g...|   5.0|             true|1646753573910|\n",
      "|AGXVBIUFLFGMVLATY...|B09DCSNDT3| B09DCT39P2|Great item! Easy ...|Item came as desc...|   5.0|             true|1644932513079|\n",
      "|AGXVBIUFLFGMVLATY...|B00UKXP6Y2| B07CKPPSB4|          Four Stars|Stocking stuffers...|   4.0|             true|1485870336000|\n",
      "|AGXVBIUFLFGMVLATY...|B00W3C3ISY| B00W3C3ISY|It is a great val...|My son loves his ...|   5.0|             true|1461331211000|\n",
      "|AGKHLEW2SOWHNMFQI...|B07NPMQPS9| B07NPMQPS9|Good to have thes...|These work. It is...|   5.0|             true|1557757311964|\n",
      "|AGKHLEW2SOWHNMFQI...|B07MV4KV8S| B09TSCZWX5|         These work!|These really work...|   5.0|             true|1557757060457|\n",
      "|AGKHLEW2SOWHNMFQI...|B01JTI3VIG| B01JTI3VIG|Finally something...|These big phones ...|   5.0|             true|1557756883381|\n",
      "|AGKHLEW2SOWHNMFQI...|B01MZIG15J| B06VXYPWMC|Great, great, great!|Works great, look...|   5.0|             true|1530231902311|\n",
      "|AGKHLEW2SOWHNMFQI...|B01JTI2K3S| B08FLGTLBQ|        Great value!|Some people have ...|   5.0|             true|1530231753869|\n",
      "|AGKHLEW2SOWHNMFQI...|B01LVXS6C0| B01LVXS6C0|Great fit and lov...|Great fit and lov...|   4.0|             true|1519316898712|\n",
      "|AGKHLEW2SOWHNMFQI...|B0719X5WJ5| B0719X5WJ5|             It's ok|It's hard to sepa...|   3.0|             true|1504830208331|\n",
      "|AFE337D2J37YRU5U6...|B07KJH11VV| B07KJH11VV|Don't try to tigh...|Putting it on a n...|   2.0|             true|1606781266760|\n",
      "|AGBFYI2DDIKXC5Y4F...|B0746YX7J7| B0746YX7J7|Does a good job o...|We've survived a ...|   5.0|             true|1540324237308|\n",
      "|AFTC6ZR5IKNRDG5JC...|B086WK9QH7| B0C5XPBMHM|Light, good sound...|I got these for m...|   5.0|             true|1599158604740|\n",
      "|AFTC6ZR5IKNRDG5JC...|B00UH8KUMS| B00UH8KUMS|    Perfect and easy|Went on perfect. ...|   5.0|             true|1434660130000|\n",
      "+--------------------+----------+-----------+--------------------+--------------------+------+-----------------+-------------+\n",
      "only showing top 20 rows\n",
      "\n"
     ]
    }
   ],
   "source": [
    "filtered_review_df = filtered_review_df.filter(filtered_review_df[\"verified_purchase\"] == True)\n",
    "\n",
    "filtered_review_df.show()"
   ]
  },
  {
   "cell_type": "code",
   "execution_count": 11,
   "metadata": {},
   "outputs": [
    {
     "name": "stderr",
     "output_type": "stream",
     "text": [
      "[Stage 13:============================================>          (57 + 13) / 70]\r"
     ]
    },
    {
     "name": "stdout",
     "output_type": "stream",
     "text": [
      "Number of rows: 19726191\n"
     ]
    },
    {
     "name": "stderr",
     "output_type": "stream",
     "text": [
      "                                                                                \r"
     ]
    }
   ],
   "source": [
    "print(\"Number of rows:\", filtered_review_df.count())"
   ]
  },
  {
   "cell_type": "code",
   "execution_count": null,
   "metadata": {},
   "outputs": [],
   "source": [
    "def clean_text(text):\n",
    "    text = re.sub(r'<br />', ' ', text)\n",
    "    text = re.sub(r'<.*?>', ' ', text)\n",
    "\n",
    "    text = demoji.replace(text, '')\n",
    "    \n",
    "    text = re.sub(r'[!]+', '!', text)\n",
    "\n",
    "    text = re.sub(r'[^a-zA-Z0-9\\s.!?]', '', text)\n",
    "\n",
    "    text = text.lower()\n",
    "\n",
    "    text = re.sub(r'\\s+', ' ', text).strip()\n",
    "\n",
    "    return text"
   ]
  },
  {
   "cell_type": "code",
   "execution_count": null,
   "metadata": {},
   "outputs": [
    {
     "name": "stdout",
     "output_type": "stream",
     "text": [
      "+--------------------+----------+-----------+--------------------+--------------------+------+-----------------+-------------+\n",
      "|             user_id|      asin|parent_asin|               title|                text|rating|verified_purchase|    timestamp|\n",
      "+--------------------+----------+-----------+--------------------+--------------------+------+-----------------+-------------+\n",
      "|AFKZENTNBQ7A7V7UX...|B08L6L3X1S| B08L6L3X1S|no white backgrou...|i bought this bc ...|   4.0|             true|1612044451196|\n",
      "|AFKZENTNBQ7A7V7UX...|B079BPGF6C| B079BPGF6C|awesome! great pr...|perfect. how piss...|   5.0|             true|1534443517349|\n",
      "|AGCI7FAH4GL5FI65H...|B088DR7Z5B| B0BBGGC8F2|worked but took a...|overall very happ...|   5.0|             true|1629235304798|\n",
      "|AGCI7FAH4GL5FI65H...|B07XRDHDNQ| B07XRDHDNQ|              decent|lasted about 9 mo...|   4.0|             true|1590470082910|\n",
      "|AGCI7FAH4GL5FI65H...|B00A8ZDL9Y| B00A8ZDL9Y|            love it!|love this case! w...|   5.0|             true|1408994588000|\n",
      "|AGXVBIUFLFGMVLATY...|B09KH3Z9MF| B0BX2GG16C|works great with ...|this item works g...|   5.0|             true|1646753573910|\n",
      "|AGXVBIUFLFGMVLATY...|B09DCSNDT3| B09DCT39P2|great item! easy ...|item came as desc...|   5.0|             true|1644932513079|\n",
      "|AGXVBIUFLFGMVLATY...|B00UKXP6Y2| B07CKPPSB4|          four stars|stocking stuffers...|   4.0|             true|1485870336000|\n",
      "|AGXVBIUFLFGMVLATY...|B00W3C3ISY| B00W3C3ISY|it is a great val...|my son loves his ...|   5.0|             true|1461331211000|\n",
      "|AGKHLEW2SOWHNMFQI...|B07NPMQPS9| B07NPMQPS9|good to have thes...|these work. it is...|   5.0|             true|1557757311964|\n",
      "|AGKHLEW2SOWHNMFQI...|B07MV4KV8S| B09TSCZWX5|         these work!|these really work...|   5.0|             true|1557757060457|\n",
      "|AGKHLEW2SOWHNMFQI...|B01JTI3VIG| B01JTI3VIG|finally something...|these big phones ...|   5.0|             true|1557756883381|\n",
      "|AGKHLEW2SOWHNMFQI...|B01MZIG15J| B06VXYPWMC|  great great great!|works great looks...|   5.0|             true|1530231902311|\n",
      "|AGKHLEW2SOWHNMFQI...|B01JTI2K3S| B08FLGTLBQ|        great value!|some people have ...|   5.0|             true|1530231753869|\n",
      "|AGKHLEW2SOWHNMFQI...|B01LVXS6C0| B01LVXS6C0|great fit and lov...|great fit and lov...|   4.0|             true|1519316898712|\n",
      "|AGKHLEW2SOWHNMFQI...|B0719X5WJ5| B0719X5WJ5|              its ok|its hard to separ...|   3.0|             true|1504830208331|\n",
      "|AFE337D2J37YRU5U6...|B07KJH11VV| B07KJH11VV|dont try to tight...|putting it on a n...|   2.0|             true|1606781266760|\n",
      "|AGBFYI2DDIKXC5Y4F...|B0746YX7J7| B0746YX7J7|does a good job o...|weve survived a f...|   5.0|             true|1540324237308|\n",
      "|AFTC6ZR5IKNRDG5JC...|B086WK9QH7| B0C5XPBMHM|light good sound ...|i got these for m...|   5.0|             true|1599158604740|\n",
      "|AFTC6ZR5IKNRDG5JC...|B00UH8KUMS| B00UH8KUMS|    perfect and easy|went on perfect. ...|   5.0|             true|1434660130000|\n",
      "+--------------------+----------+-----------+--------------------+--------------------+------+-----------------+-------------+\n",
      "only showing top 20 rows\n",
      "\n"
     ]
    }
   ],
   "source": [
    "clean_text_udf = udf(clean_text, StringType())\n",
    "\n",
    "filtered_review_df = filtered_review_df.withColumn('text', clean_text_udf(filtered_review_df['text']))\n",
    "filtered_review_df = filtered_review_df.withColumn('title', clean_text_udf(filtered_review_df['title']))\n",
    "\n",
    "filtered_review_df.show()"
   ]
  },
  {
   "cell_type": "markdown",
   "metadata": {},
   "source": [
    "# Metadata"
   ]
  },
  {
   "cell_type": "code",
   "execution_count": null,
   "metadata": {},
   "outputs": [],
   "source": [
    "meta_schema = StructType([\n",
    "    StructField(\"main_category\", StringType(), True),\n",
    "    StructField(\"title\", StringType(), True),\n",
    "    StructField(\"average_rating\", FloatType(), True),\n",
    "    StructField(\"rating_number\", IntegerType(), True),\n",
    "    StructField(\"features\", ArrayType(StringType()), True),\n",
    "    StructField(\"description\", ArrayType(StringType()), True),\n",
    "    StructField(\"price\", StringType(), True),\n",
    "    StructField(\"images\", StructType([\n",
    "        StructField(\"hi_res\", ArrayType(StringType()), True),\n",
    "        StructField(\"large\", ArrayType(StringType()), True),\n",
    "        StructField(\"thumb\", ArrayType(StringType()), True),\n",
    "        StructField(\"variant\", ArrayType(StringType()), True)\n",
    "    ]), True),\n",
    "    StructField(\"videos\", StructType([\n",
    "        StructField(\"title\", ArrayType(StringType()), True),\n",
    "        StructField(\"url\", ArrayType(StringType()), True),\n",
    "        StructField(\"user_id\", ArrayType(StringType()), True)\n",
    "    ]), True),\n",
    "    StructField(\"store\", StringType(), True),\n",
    "    StructField(\"categories\", ArrayType(StringType()), True),\n",
    "    StructField(\"details\", MapType(StringType(), StringType()), True),\n",
    "    StructField(\"parent_asin\", StringType(), True),\n",
    "    StructField(\"bought_together\", StringType(), True),\n",
    "    StructField(\"subtitle\", StringType(), True),\n",
    "    StructField(\"author\", StringType(), True)\n",
    "])"
   ]
  },
  {
   "cell_type": "code",
   "execution_count": 15,
   "metadata": {},
   "outputs": [
    {
     "name": "stdout",
     "output_type": "stream",
     "text": [
      "+--------------------+--------------------+--------------+-------------+----------------------+--------------------+-----+------+------+---------------+--------------------+--------------------+-----------+---------------+--------+------+\n",
      "|       main_category|               title|average_rating|rating_number|              features|         description|price|images|videos|          store|          categories|             details|parent_asin|bought_together|subtitle|author|\n",
      "+--------------------+--------------------+--------------+-------------+----------------------+--------------------+-----+------+------+---------------+--------------------+--------------------+-----------+---------------+--------+------+\n",
      "|Cell Phones & Acc...|ARAREE Slim Diary...|           3.8|            5|  [Genuine Cow leat...|[JUST LOOK, You c...| NULL|  NULL|  NULL|         araree|[Cell Phones & Ac...|{Product Dimensio...| B013SK1JTY|           NULL|    NULL|  NULL|\n",
      "|Cell Phones & Acc...|Bastmei for OnePl...|           4.4|          177|  [Ultra-thin & Ult...|                  []|11.98|  NULL|  NULL|        Bastmei|[Cell Phones & Ac...|{Package Dimensio...| B07ZPSG8P5|           NULL|    NULL|  NULL|\n",
      "|Cell Phones & Acc...|Wireless Fones Br...|           4.0|            2|                    []|                  []| NULL|  NULL|  NULL| WIRELESS FONES|[Cell Phones & Ac...|{Item model numbe...| B00GKR3L12|           NULL|    NULL|  NULL|\n",
      "|Cell Phones & Acc...|iPhone 6 Plus + C...|           4.0|           15|  [Slim-Fit design ...|[Case does not ne...| NULL|  NULL|  NULL|      DandyCase|[Cell Phones & Ac...|{Product Dimensio...| B00PB8U8BW|           NULL|    NULL|  NULL|\n",
      "|Cell Phones & Acc...|Case for Galaxy S...|           4.0|            1|                    []|                  []| NULL|  NULL|  NULL|          7Pite|[Cell Phones & Ac...|{Package Dimensio...| B07D3RHSRV|           NULL|    NULL|  NULL|\n",
      "|Cell Phones & Acc...|Rikki Knight 3D C...|           1.0|            1|  [Includes attache...|[The Rikki Knight...|22.42|  NULL|  NULL|   Rikki Knight|[Cell Phones & Ac...|{Product Dimensio...| B00JIFK1HA|           NULL|    NULL|  NULL|\n",
      "|Cell Phones & Acc...|iMangoo Galaxy S2...|           4.5|          530|  [Compatibility: T...|                  []|11.99|  NULL|  NULL|        iMangoo|[Cell Phones & Ac...|{Package Dimensio...| B0BHY2CR5B|           NULL|    NULL|  NULL|\n",
      "|Cell Phones & Acc...|Piel Frama Wallet...|           5.0|            1|  [Sync through tra...|[Handcrafted in S...| NULL|  NULL|  NULL|     Piel Frama|[Cell Phones & Ac...|{Product Dimensio...| B0071OC36W|           NULL|    NULL|  NULL|\n",
      "|Cell Phones & Acc...|Pearl Bowknot 3d ...|           3.8|            3|                    []|                  []| NULL|  NULL|  NULL|      wilsontse|                  []|{Special features...| B00LO02H56|           NULL|    NULL|  NULL|\n",
      "|Cell Phones & Acc...|Omio for Galaxy N...|           3.0|            5|                    []|                  []| NULL|  NULL|  NULL|           Omio|                  []|{Package Dimensio...| B07W5Z9VHY|           NULL|    NULL|  NULL|\n",
      "|Cell Phones & Acc...|ZHK Compatible wi...|           4.3|          205|                    []|                  []| NULL|  NULL|  NULL|            ZHK|                  []|{Package Dimensio...| B08GK7J9XN|           NULL|    NULL|  NULL|\n",
      "|   Sports & Outdoors|BCSLINE Outdoor E...|           3.2|            5|  [Practical&Beauti...|[Features: Carry ...| NULL|  NULL|  NULL|       BCSCasek|[Cell Phones & Ac...|{Brand Name -> BC...| B00JI55D2I|           NULL|    NULL|  NULL|\n",
      "|Cell Phones & Acc...|iPhone 6S Plus Ca...|           4.0|           11|                    []|                  []| NULL|  NULL|  NULL|           KAKA|                  []|{Product Dimensio...| B06XW2NJH2|           NULL|    NULL|  NULL|\n",
      "|Cell Phones & Acc...|WSKEN for Samsung...|           4.5|          354|  [Compatibility: T...|                  []|11.99|  NULL|  NULL|          WSKEN|[Cell Phones & Ac...|{Product Dimensio...| B0B8ZBCCY6|           NULL|    NULL|  NULL|\n",
      "|Cell Phones & Acc...|MMOBIEL Earspeake...|           4.2|          380|  [MMOBIEL Earspeak...|[MMOBIEL Earspeak...|11.99|  NULL|  NULL|        MMOBIEL|[Cell Phones & Ac...|{Package Dimensio...| B07NWTB6P1|           NULL|    NULL|  NULL|\n",
      "|Cell Phones & Acc...|CP 2-In-1 Hard Hy...|           5.0|            1|  [Made with High Q...|[2 in 1 Silicone ...| NULL|  NULL|  NULL|             CP|                  []|{Product Dimensio...| B00SX5JWSK|           NULL|    NULL|  NULL|\n",
      "|Cell Phones & Acc...|Peace Love Sunshi...|           4.5|           41|  [Peace Love Sunsh...|[What are PopSock...|14.99|  NULL|  NULL|Peonily Designs|[Cell Phones & Ac...|{Package Dimensio...| B08C82CVM2|           NULL|    NULL|  NULL|\n",
      "|Cell Phones & Acc...|[2 Pack] Camera S...|           3.7|          807|[【Cut precisely】S...|                  []| NULL|  NULL|  NULL|          SMAPP|[Cell Phones & Ac...|{Package Dimensio...| B07YTYFBCT|           NULL|    NULL|  NULL|\n",
      "|Cell Phones & Acc...|Moto E (2nd Gen) ...|           4.0|            1|  [This case is fit...|                  []| NULL|  NULL|  NULL|        Khytech|                  []|{Product Dimensio...| B01MTQ79AT|           NULL|    NULL|  NULL|\n",
      "|Cell Phones & Acc...|Natural real ital...|           4.6|            6|  [HANDMADE natural...|[Material: Genuin...| NULL|  NULL|  NULL|         Polare|[Cell Phones & Ac...|{Package Dimensio...| B00OZF3MBA|           NULL|    NULL|  NULL|\n",
      "+--------------------+--------------------+--------------+-------------+----------------------+--------------------+-----+------+------+---------------+--------------------+--------------------+-----------+---------------+--------+------+\n",
      "only showing top 20 rows\n",
      "\n"
     ]
    }
   ],
   "source": [
    "meta_df = spark.read.schema(meta_schema).json(\"./Amazon_Review_Dataset/Cell_Phones_and_Accessories/meta_Cell_Phones_and_Accessories.jsonl\")\n",
    "meta_df.show()"
   ]
  },
  {
   "cell_type": "code",
   "execution_count": null,
   "metadata": {},
   "outputs": [
    {
     "name": "stdout",
     "output_type": "stream",
     "text": [
      "+--------------------+--------------------+--------------+-------------+----------------------+--------------------+------+--------------------+-----------+\n",
      "|       main_category|               title|average_rating|rating_number|              features|         description|images|          categories|parent_asin|\n",
      "+--------------------+--------------------+--------------+-------------+----------------------+--------------------+------+--------------------+-----------+\n",
      "|Cell Phones & Acc...|ARAREE Slim Diary...|           3.8|            5|  [Genuine Cow leat...|[JUST LOOK, You c...|  NULL|[Cell Phones & Ac...| B013SK1JTY|\n",
      "|Cell Phones & Acc...|Bastmei for OnePl...|           4.4|          177|  [Ultra-thin & Ult...|                  []|  NULL|[Cell Phones & Ac...| B07ZPSG8P5|\n",
      "|Cell Phones & Acc...|Wireless Fones Br...|           4.0|            2|                    []|                  []|  NULL|[Cell Phones & Ac...| B00GKR3L12|\n",
      "|Cell Phones & Acc...|iPhone 6 Plus + C...|           4.0|           15|  [Slim-Fit design ...|[Case does not ne...|  NULL|[Cell Phones & Ac...| B00PB8U8BW|\n",
      "|Cell Phones & Acc...|Case for Galaxy S...|           4.0|            1|                    []|                  []|  NULL|[Cell Phones & Ac...| B07D3RHSRV|\n",
      "|Cell Phones & Acc...|Rikki Knight 3D C...|           1.0|            1|  [Includes attache...|[The Rikki Knight...|  NULL|[Cell Phones & Ac...| B00JIFK1HA|\n",
      "|Cell Phones & Acc...|iMangoo Galaxy S2...|           4.5|          530|  [Compatibility: T...|                  []|  NULL|[Cell Phones & Ac...| B0BHY2CR5B|\n",
      "|Cell Phones & Acc...|Piel Frama Wallet...|           5.0|            1|  [Sync through tra...|[Handcrafted in S...|  NULL|[Cell Phones & Ac...| B0071OC36W|\n",
      "|Cell Phones & Acc...|Pearl Bowknot 3d ...|           3.8|            3|                    []|                  []|  NULL|                  []| B00LO02H56|\n",
      "|Cell Phones & Acc...|Omio for Galaxy N...|           3.0|            5|                    []|                  []|  NULL|                  []| B07W5Z9VHY|\n",
      "|Cell Phones & Acc...|ZHK Compatible wi...|           4.3|          205|                    []|                  []|  NULL|                  []| B08GK7J9XN|\n",
      "|   Sports & Outdoors|BCSLINE Outdoor E...|           3.2|            5|  [Practical&Beauti...|[Features: Carry ...|  NULL|[Cell Phones & Ac...| B00JI55D2I|\n",
      "|Cell Phones & Acc...|iPhone 6S Plus Ca...|           4.0|           11|                    []|                  []|  NULL|                  []| B06XW2NJH2|\n",
      "|Cell Phones & Acc...|WSKEN for Samsung...|           4.5|          354|  [Compatibility: T...|                  []|  NULL|[Cell Phones & Ac...| B0B8ZBCCY6|\n",
      "|Cell Phones & Acc...|MMOBIEL Earspeake...|           4.2|          380|  [MMOBIEL Earspeak...|[MMOBIEL Earspeak...|  NULL|[Cell Phones & Ac...| B07NWTB6P1|\n",
      "|Cell Phones & Acc...|CP 2-In-1 Hard Hy...|           5.0|            1|  [Made with High Q...|[2 in 1 Silicone ...|  NULL|                  []| B00SX5JWSK|\n",
      "|Cell Phones & Acc...|Peace Love Sunshi...|           4.5|           41|  [Peace Love Sunsh...|[What are PopSock...|  NULL|[Cell Phones & Ac...| B08C82CVM2|\n",
      "|Cell Phones & Acc...|[2 Pack] Camera S...|           3.7|          807|[【Cut precisely】S...|                  []|  NULL|[Cell Phones & Ac...| B07YTYFBCT|\n",
      "|Cell Phones & Acc...|Moto E (2nd Gen) ...|           4.0|            1|  [This case is fit...|                  []|  NULL|                  []| B01MTQ79AT|\n",
      "|Cell Phones & Acc...|Natural real ital...|           4.6|            6|  [HANDMADE natural...|[Material: Genuin...|  NULL|[Cell Phones & Ac...| B00OZF3MBA|\n",
      "+--------------------+--------------------+--------------+-------------+----------------------+--------------------+------+--------------------+-----------+\n",
      "only showing top 20 rows\n",
      "\n"
     ]
    }
   ],
   "source": [
    "meta_df = meta_df.select(\"main_category\", \"title\", \"average_rating\", \"rating_number\", \n",
    "                         \"features\", \"description\", \"images\", \"categories\", \"parent_asin\")\n",
    "\n",
    "meta_df.show()"
   ]
  },
  {
   "cell_type": "code",
   "execution_count": null,
   "metadata": {},
   "outputs": [],
   "source": [
    "unique_main_category = meta_df.select(\"main_category\").distinct().limit(1).collect()[0][\"main_category\"]\n",
    "\n",
    "meta_df = meta_df.fillna({\"main_category\": unique_main_category})"
   ]
  },
  {
   "cell_type": "code",
   "execution_count": 18,
   "metadata": {},
   "outputs": [
    {
     "name": "stderr",
     "output_type": "stream",
     "text": [
      "[Stage 20:====================================================>   (28 + 2) / 30]\r"
     ]
    },
    {
     "name": "stdout",
     "output_type": "stream",
     "text": [
      "Number of rows: 1288490\n"
     ]
    },
    {
     "name": "stderr",
     "output_type": "stream",
     "text": [
      "                                                                                \r"
     ]
    }
   ],
   "source": [
    "print(\"Number of rows:\", meta_df.count())"
   ]
  },
  {
   "cell_type": "code",
   "execution_count": null,
   "metadata": {},
   "outputs": [],
   "source": [
    "def merge_text(col_1, col_2):\n",
    "    col_1 = \"\" if col_1 is None else col_1\n",
    "    col_2 = \"\" if col_2 is None else col_2\n",
    "    \n",
    "    text_1 = \" \".join(col_1) if isinstance(col_1, list) else col_1\n",
    "    text_2 = \" \".join(col_2) if isinstance(col_2, list) else col_2\n",
    "    \n",
    "    raw_text = text_1 + \" \" + text_2\n",
    "    \n",
    "    final_text = clean_text(raw_text)\n",
    "    \n",
    "    return final_text"
   ]
  },
  {
   "cell_type": "code",
   "execution_count": null,
   "metadata": {},
   "outputs": [
    {
     "name": "stdout",
     "output_type": "stream",
     "text": [
      "+--------------------+--------------------+--------------+-------------+----------------------+--------------------+------+--------------------+-----------+--------------------+\n",
      "|       main_category|               title|average_rating|rating_number|              features|         description|images|          categories|parent_asin|           Text Data|\n",
      "+--------------------+--------------------+--------------+-------------+----------------------+--------------------+------+--------------------+-----------+--------------------+\n",
      "|Cell Phones & Acc...|ARAREE Slim Diary...|           3.8|            5|  [Genuine Cow leat...|[JUST LOOK, You c...|  NULL|[Cell Phones & Ac...| B013SK1JTY|genuine cow leath...|\n",
      "|Cell Phones & Acc...|Bastmei for OnePl...|           4.4|          177|  [Ultra-thin & Ult...|                  []|  NULL|[Cell Phones & Ac...| B07ZPSG8P5|ultrathin ultrali...|\n",
      "|Cell Phones & Acc...|Wireless Fones Br...|           4.0|            2|                    []|                  []|  NULL|[Cell Phones & Ac...| B00GKR3L12|                    |\n",
      "|Cell Phones & Acc...|iPhone 6 Plus + C...|           4.0|           15|  [Slim-Fit design ...|[Case does not ne...|  NULL|[Cell Phones & Ac...| B00PB8U8BW|slimfit design fo...|\n",
      "|Cell Phones & Acc...|Case for Galaxy S...|           4.0|            1|                    []|                  []|  NULL|[Cell Phones & Ac...| B07D3RHSRV|                    |\n",
      "|Cell Phones & Acc...|Rikki Knight 3D C...|           1.0|            1|  [Includes attache...|[The Rikki Knight...|  NULL|[Cell Phones & Ac...| B00JIFK1HA|includes attached...|\n",
      "|Cell Phones & Acc...|iMangoo Galaxy S2...|           4.5|          530|  [Compatibility: T...|                  []|  NULL|[Cell Phones & Ac...| B0BHY2CR5B|compatibility thi...|\n",
      "|Cell Phones & Acc...|Piel Frama Wallet...|           5.0|            1|  [Sync through tra...|[Handcrafted in S...|  NULL|[Cell Phones & Ac...| B0071OC36W|sync through trav...|\n",
      "|Cell Phones & Acc...|Pearl Bowknot 3d ...|           3.8|            3|                    []|                  []|  NULL|                  []| B00LO02H56|                    |\n",
      "|Cell Phones & Acc...|Omio for Galaxy N...|           3.0|            5|                    []|                  []|  NULL|                  []| B07W5Z9VHY|                    |\n",
      "|Cell Phones & Acc...|ZHK Compatible wi...|           4.3|          205|                    []|                  []|  NULL|                  []| B08GK7J9XN|                    |\n",
      "|   Sports & Outdoors|BCSLINE Outdoor E...|           3.2|            5|  [Practical&Beauti...|[Features: Carry ...|  NULL|[Cell Phones & Ac...| B00JI55D2I|practicalbeautifu...|\n",
      "|Cell Phones & Acc...|iPhone 6S Plus Ca...|           4.0|           11|                    []|                  []|  NULL|                  []| B06XW2NJH2|                    |\n",
      "|Cell Phones & Acc...|WSKEN for Samsung...|           4.5|          354|  [Compatibility: T...|                  []|  NULL|[Cell Phones & Ac...| B0B8ZBCCY6|compatibility the...|\n",
      "|Cell Phones & Acc...|MMOBIEL Earspeake...|           4.2|          380|  [MMOBIEL Earspeak...|[MMOBIEL Earspeak...|  NULL|[Cell Phones & Ac...| B07NWTB6P1|mmobiel earspeake...|\n",
      "|Cell Phones & Acc...|CP 2-In-1 Hard Hy...|           5.0|            1|  [Made with High Q...|[2 in 1 Silicone ...|  NULL|                  []| B00SX5JWSK|made with high qu...|\n",
      "|Cell Phones & Acc...|Peace Love Sunshi...|           4.5|           41|  [Peace Love Sunsh...|[What are PopSock...|  NULL|[Cell Phones & Ac...| B08C82CVM2|peace love sunshi...|\n",
      "|Cell Phones & Acc...|[2 Pack] Camera S...|           3.7|          807|[【Cut precisely】S...|                  []|  NULL|[Cell Phones & Ac...| B07YTYFBCT|cut preciselyspec...|\n",
      "|Cell Phones & Acc...|Moto E (2nd Gen) ...|           4.0|            1|  [This case is fit...|                  []|  NULL|                  []| B01MTQ79AT|this case is fit ...|\n",
      "|Cell Phones & Acc...|Natural real ital...|           4.6|            6|  [HANDMADE natural...|[Material: Genuin...|  NULL|[Cell Phones & Ac...| B00OZF3MBA|handmade natural ...|\n",
      "+--------------------+--------------------+--------------+-------------+----------------------+--------------------+------+--------------------+-----------+--------------------+\n",
      "only showing top 20 rows\n",
      "\n"
     ]
    }
   ],
   "source": [
    "merge_text_udf = udf(merge_text, StringType())\n",
    "\n",
    "meta_df = meta_df.withColumn(\"Text Data\", merge_text_udf(meta_df[\"features\"], meta_df[\"description\"]))\n",
    "\n",
    "meta_df.show()"
   ]
  },
  {
   "cell_type": "code",
   "execution_count": null,
   "metadata": {},
   "outputs": [],
   "source": [
    "filtered_review_df = filtered_review_df \\\n",
    "    .withColumnRenamed('user_id', 'User ID') \\\n",
    "    .withColumnRenamed('asin', 'ASIN') \\\n",
    "    .withColumnRenamed('parent_asin', 'Parent ASIN') \\\n",
    "    .withColumnRenamed('title', 'Review Title') \\\n",
    "    .withColumnRenamed('text', 'Review Text') \\\n",
    "    .withColumnRenamed('rating', 'Rating') \\\n",
    "    .withColumnRenamed('verified_purchase', 'Verified Purchase')\n",
    "\n",
    "meta_df = meta_df \\\n",
    "    .withColumnRenamed('main_category', 'Main Category') \\\n",
    "    .withColumnRenamed('title', 'Product Title') \\\n",
    "    .withColumnRenamed('average_rating', 'Average Rating') \\\n",
    "    .withColumnRenamed('rating_number', 'Rating Number') \\\n",
    "    .withColumnRenamed('features', 'Features') \\\n",
    "    .withColumnRenamed('description', 'Descriptions') \\\n",
    "    .withColumnRenamed('images', 'Images') \\\n",
    "    .withColumnRenamed('categories', 'Categories') \\\n",
    "    .withColumnRenamed('parent_asin', 'Parent ASIN')"
   ]
  },
  {
   "cell_type": "code",
   "execution_count": 22,
   "metadata": {},
   "outputs": [
    {
     "name": "stdout",
     "output_type": "stream",
     "text": [
      "+--------------------+--------------------+--------------+-------------+------+--------------------+-----------+--------------------+\n",
      "|       Main Category|       Product Title|Average Rating|Rating Number|Images|          Categories|Parent ASIN|           Text Data|\n",
      "+--------------------+--------------------+--------------+-------------+------+--------------------+-----------+--------------------+\n",
      "|Cell Phones & Acc...|ARAREE Slim Diary...|           3.8|            5|  NULL|[Cell Phones & Ac...| B013SK1JTY|genuine cow leath...|\n",
      "|Cell Phones & Acc...|Bastmei for OnePl...|           4.4|          177|  NULL|[Cell Phones & Ac...| B07ZPSG8P5|ultrathin ultrali...|\n",
      "|Cell Phones & Acc...|Wireless Fones Br...|           4.0|            2|  NULL|[Cell Phones & Ac...| B00GKR3L12|                    |\n",
      "|Cell Phones & Acc...|iPhone 6 Plus + C...|           4.0|           15|  NULL|[Cell Phones & Ac...| B00PB8U8BW|slimfit design fo...|\n",
      "|Cell Phones & Acc...|Case for Galaxy S...|           4.0|            1|  NULL|[Cell Phones & Ac...| B07D3RHSRV|                    |\n",
      "|Cell Phones & Acc...|Rikki Knight 3D C...|           1.0|            1|  NULL|[Cell Phones & Ac...| B00JIFK1HA|includes attached...|\n",
      "|Cell Phones & Acc...|iMangoo Galaxy S2...|           4.5|          530|  NULL|[Cell Phones & Ac...| B0BHY2CR5B|compatibility thi...|\n",
      "|Cell Phones & Acc...|Piel Frama Wallet...|           5.0|            1|  NULL|[Cell Phones & Ac...| B0071OC36W|sync through trav...|\n",
      "|Cell Phones & Acc...|Pearl Bowknot 3d ...|           3.8|            3|  NULL|                  []| B00LO02H56|                    |\n",
      "|Cell Phones & Acc...|Omio for Galaxy N...|           3.0|            5|  NULL|                  []| B07W5Z9VHY|                    |\n",
      "|Cell Phones & Acc...|ZHK Compatible wi...|           4.3|          205|  NULL|                  []| B08GK7J9XN|                    |\n",
      "|   Sports & Outdoors|BCSLINE Outdoor E...|           3.2|            5|  NULL|[Cell Phones & Ac...| B00JI55D2I|practicalbeautifu...|\n",
      "|Cell Phones & Acc...|iPhone 6S Plus Ca...|           4.0|           11|  NULL|                  []| B06XW2NJH2|                    |\n",
      "|Cell Phones & Acc...|WSKEN for Samsung...|           4.5|          354|  NULL|[Cell Phones & Ac...| B0B8ZBCCY6|compatibility the...|\n",
      "|Cell Phones & Acc...|MMOBIEL Earspeake...|           4.2|          380|  NULL|[Cell Phones & Ac...| B07NWTB6P1|mmobiel earspeake...|\n",
      "|Cell Phones & Acc...|CP 2-In-1 Hard Hy...|           5.0|            1|  NULL|                  []| B00SX5JWSK|made with high qu...|\n",
      "|Cell Phones & Acc...|Peace Love Sunshi...|           4.5|           41|  NULL|[Cell Phones & Ac...| B08C82CVM2|peace love sunshi...|\n",
      "|Cell Phones & Acc...|[2 Pack] Camera S...|           3.7|          807|  NULL|[Cell Phones & Ac...| B07YTYFBCT|cut preciselyspec...|\n",
      "|Cell Phones & Acc...|Moto E (2nd Gen) ...|           4.0|            1|  NULL|                  []| B01MTQ79AT|this case is fit ...|\n",
      "|Cell Phones & Acc...|Natural real ital...|           4.6|            6|  NULL|[Cell Phones & Ac...| B00OZF3MBA|handmade natural ...|\n",
      "+--------------------+--------------------+--------------+-------------+------+--------------------+-----------+--------------------+\n",
      "only showing top 20 rows\n",
      "\n"
     ]
    }
   ],
   "source": [
    "meta_df = meta_df.drop('Features', 'Descriptions')\n",
    "meta_df.show()"
   ]
  },
  {
   "cell_type": "code",
   "execution_count": 23,
   "metadata": {},
   "outputs": [
    {
     "name": "stdout",
     "output_type": "stream",
     "text": [
      "+--------------------+----------+-----------+--------------------+--------------------+------+-----------------+-------------+\n",
      "|             User ID|      ASIN|Parent ASIN|        Review Title|         Review Text|Rating|Verified Purchase|    timestamp|\n",
      "+--------------------+----------+-----------+--------------------+--------------------+------+-----------------+-------------+\n",
      "|AFKZENTNBQ7A7V7UX...|B08L6L3X1S| B08L6L3X1S|no white backgrou...|i bought this bc ...|   4.0|             true|1612044451196|\n",
      "|AFKZENTNBQ7A7V7UX...|B079BPGF6C| B079BPGF6C|awesome! great pr...|perfect. how piss...|   5.0|             true|1534443517349|\n",
      "|AGCI7FAH4GL5FI65H...|B088DR7Z5B| B0BBGGC8F2|worked but took a...|overall very happ...|   5.0|             true|1629235304798|\n",
      "|AGCI7FAH4GL5FI65H...|B07XRDHDNQ| B07XRDHDNQ|              decent|lasted about 9 mo...|   4.0|             true|1590470082910|\n",
      "|AGCI7FAH4GL5FI65H...|B00A8ZDL9Y| B00A8ZDL9Y|            love it!|love this case! w...|   5.0|             true|1408994588000|\n",
      "|AGXVBIUFLFGMVLATY...|B09KH3Z9MF| B0BX2GG16C|works great with ...|this item works g...|   5.0|             true|1646753573910|\n",
      "|AGXVBIUFLFGMVLATY...|B09DCSNDT3| B09DCT39P2|great item! easy ...|item came as desc...|   5.0|             true|1644932513079|\n",
      "|AGXVBIUFLFGMVLATY...|B00UKXP6Y2| B07CKPPSB4|          four stars|stocking stuffers...|   4.0|             true|1485870336000|\n",
      "|AGXVBIUFLFGMVLATY...|B00W3C3ISY| B00W3C3ISY|it is a great val...|my son loves his ...|   5.0|             true|1461331211000|\n",
      "|AGKHLEW2SOWHNMFQI...|B07NPMQPS9| B07NPMQPS9|good to have thes...|these work. it is...|   5.0|             true|1557757311964|\n",
      "|AGKHLEW2SOWHNMFQI...|B07MV4KV8S| B09TSCZWX5|         these work!|these really work...|   5.0|             true|1557757060457|\n",
      "|AGKHLEW2SOWHNMFQI...|B01JTI3VIG| B01JTI3VIG|finally something...|these big phones ...|   5.0|             true|1557756883381|\n",
      "|AGKHLEW2SOWHNMFQI...|B01MZIG15J| B06VXYPWMC|  great great great!|works great looks...|   5.0|             true|1530231902311|\n",
      "|AGKHLEW2SOWHNMFQI...|B01JTI2K3S| B08FLGTLBQ|        great value!|some people have ...|   5.0|             true|1530231753869|\n",
      "|AGKHLEW2SOWHNMFQI...|B01LVXS6C0| B01LVXS6C0|great fit and lov...|great fit and lov...|   4.0|             true|1519316898712|\n",
      "|AGKHLEW2SOWHNMFQI...|B0719X5WJ5| B0719X5WJ5|              its ok|its hard to separ...|   3.0|             true|1504830208331|\n",
      "|AFE337D2J37YRU5U6...|B07KJH11VV| B07KJH11VV|dont try to tight...|putting it on a n...|   2.0|             true|1606781266760|\n",
      "|AGBFYI2DDIKXC5Y4F...|B0746YX7J7| B0746YX7J7|does a good job o...|weve survived a f...|   5.0|             true|1540324237308|\n",
      "|AFTC6ZR5IKNRDG5JC...|B086WK9QH7| B0C5XPBMHM|light good sound ...|i got these for m...|   5.0|             true|1599158604740|\n",
      "|AFTC6ZR5IKNRDG5JC...|B00UH8KUMS| B00UH8KUMS|    perfect and easy|went on perfect. ...|   5.0|             true|1434660130000|\n",
      "+--------------------+----------+-----------+--------------------+--------------------+------+-----------------+-------------+\n",
      "only showing top 20 rows\n",
      "\n"
     ]
    }
   ],
   "source": [
    "filtered_review_df.show()"
   ]
  },
  {
   "cell_type": "code",
   "execution_count": null,
   "metadata": {},
   "outputs": [
    {
     "name": "stderr",
     "output_type": "stream",
     "text": [
      "[Stage 27:======================================================> (29 + 1) / 30]\r"
     ]
    },
    {
     "name": "stdout",
     "output_type": "stream",
     "text": [
      "+-----------+--------------------+----------+--------------------+--------------------+------+-----------------+-------------+--------------------+--------------------+--------------+-------------+------+--------------------+--------------------+\n",
      "|Parent ASIN|             User ID|      ASIN|        Review Title|         Review Text|Rating|Verified Purchase|    timestamp|       Main Category|       Product Title|Average Rating|Rating Number|Images|          Categories|           Text Data|\n",
      "+-----------+--------------------+----------+--------------------+--------------------+------+-----------------+-------------+--------------------+--------------------+--------------+-------------+------+--------------------+--------------------+\n",
      "| 159775045X|AHUAOQIWKQCLVGTTS...|159775045X|discontinued product|national geograph...|   2.0|             true|1354206930000|Cell Phones & Acc...|National Geograph...|           4.2|            3|  NULL|                  []|print photo quali...|\n",
      "| 1783617799|AEL6RLWWGT35EKESQ...|1783617799|          five stars|beautiful artwork...|   5.0|             true|1479623082000|               Books|Catalina Estrada ...|           5.0|            3|  NULL|[Cell Phones & Ac...|                    |\n",
      "| 9784281953|AFTPUF65HXRKVUPSA...|9784281953|         works great|         works great|   5.0|             true|1647826571742|Cell Phones & Acc...|Slim Professional...|           5.0|            3|  NULL|[Cell Phones & Ac...|keep your htc one...|\n",
      "| B00004SPBV|AFDYFM2HFV4J7OOXS...|B00004SPBV|a must have for j...|i had bought thes...|   4.0|             true|1220429868000|     All Electronics|Hewlett Packard J...|           4.2|            4|  NULL|[Cell Phones & Ac...|stylus pack for y...|\n",
      "| B00004SPBV|AGJC4SGSKMHMAEZRQ...|B00004SPBV|          five stars|                  ok|   5.0|             true|1495093259000|     All Electronics|Hewlett Packard J...|           4.2|            4|  NULL|[Cell Phones & Ac...|stylus pack for y...|\n",
      "| B00006B7PR|AEMJK6GXXMXJZ27IT...|B00006B7PR|epson stylusrip w...|bought epson styl...|   4.0|             true|1356110563000|     All Electronics|Epson Stylus Rip ...|           4.0|            1|  NULL|[Cell Phones & Ac...|stylus rip for 12...|\n",
      "| B00009VTT1|AFHVBEZTYHR45KLMQ...|B00009VTT1|sony quality in i...|solid constructio...|   5.0|             true|1465780620000|     All Electronics|        Sony PC-233S|           5.0|            1|  NULL|[Cell Phones & Ac...|superb durability...|\n",
      "| B0000CFSCW|AF2G2N7ZTXJJIRWAD...|B0000CFSCW|  amazing dinnerware|ive had this set ...|   5.0|             true|1391409637000|Cell Phones & Acc...|iPhone 6 Case | i...|           5.0|            2|  NULL|[Cell Phones & Ac...|porcelain 10 14 d...|\n",
      "| B0000CFSCW|AER2FWEEKQSNOKWLK...|B0000CFSCW|    great dinnerware|this dinnerware i...|   5.0|             true|1265913757000|Cell Phones & Acc...|iPhone 6 Case | i...|           5.0|            2|  NULL|[Cell Phones & Ac...|porcelain 10 14 d...|\n",
      "| B0000DH5S8|AFFJR4HHHEDHXVBRZ...|B0000DH5S8|not just for baby...|it was everything...|   5.0|             true|1126313832000|Cell Phones & Acc...|[2 Pack] Headphon...|           4.4|           18|  NULL|                  []|premium designerg...|\n",
      "| B0000DH5S8|AFFJR4HHHEDHXVBRZ...|B0000DH5S8|not just for baby...|it was everything...|   5.0|             true|1126313832000|Cell Phones & Acc...|[2 Pack] Headphon...|           4.4|           18|  NULL|                  []|premium designerg...|\n",
      "| B0000DH5S8|AGRIRBQW464DFXZ5H...|B0000DH5S8|wonderful bag for...|i bought this bag...|   5.0|             true|1123694613000|Cell Phones & Acc...|[2 Pack] Headphon...|           4.4|           18|  NULL|                  []|premium designerg...|\n",
      "| B0000DK4LJ|AFHTVQDTW4QJK5XZ6...|B0000DK4LJ|            obsolete|only works on old...|   1.0|             true|1430477808000|Cell Phones & Acc...|National Geograph...|           3.1|            2|  NULL|                  []|includes hundreds...|\n",
      "| B0000DK4LJ|AFPXFRUPGRQEPTWDX...|B0000DK4LJ|          five stars|an excellent tran...|   5.0|             true|1463970870000|Cell Phones & Acc...|National Geograph...|           3.1|            2|  NULL|                  []|includes hundreds...|\n",
      "| B00028G2K2|AFXWCFCW2P5CQ27KE...|B00028G2K2|saved the day whe...|this is a verywel...|   5.0|             true|1317512649000|Cell Phones & Acc...|Northern Industri...|           5.0|            1|  NULL|[Cell Phones & Ac...|      sold on amazon|\n",
      "| B0002YL5XU|AFX5AVCHLEZDTNY4G...|B0002YL5XU|shame on apple fo...|every cheapest mo...|   1.0|             true|1207240753000|Cell Phones & Acc...|APPLE M9649G/A VE...|           3.1|           28|  NULL|                  []|for use with 20in...|\n",
      "| B0002YL5XU|AFRLZ7E6SHXCF665J...|B0002YL5XU|perfectly adapted...|do not make the m...|   5.0|             true|1350108123000|Cell Phones & Acc...|APPLE M9649G/A VE...|           3.1|           28|  NULL|                  []|for use with 20in...|\n",
      "| B0002YL5XU|AGYZGZ2R5ORYKWCJU...|B0002YL5XU|          works well|i love my apple m...|   4.0|             true|1212594863000|Cell Phones & Acc...|APPLE M9649G/A VE...|           3.1|           28|  NULL|                  []|for use with 20in...|\n",
      "| B0002YL5XU|AEJWQLAWAIABDGVSG...|B0002YL5XU|inclomplete for t...|it was advertised...|   1.0|             true|1265140017000|Cell Phones & Acc...|APPLE M9649G/A VE...|           3.1|           28|  NULL|                  []|for use with 20in...|\n",
      "| B0002YL5XU|AHEPB377O3JVSS2PZ...|B0002YL5XU|do your research ...|i wish the instru...|   2.0|             true|1452213738000|Cell Phones & Acc...|APPLE M9649G/A VE...|           3.1|           28|  NULL|                  []|for use with 20in...|\n",
      "+-----------+--------------------+----------+--------------------+--------------------+------+-----------------+-------------+--------------------+--------------------+--------------+-------------+------+--------------------+--------------------+\n",
      "only showing top 20 rows\n",
      "\n"
     ]
    },
    {
     "name": "stderr",
     "output_type": "stream",
     "text": [
      "                                                                                \r"
     ]
    }
   ],
   "source": [
    "merged_df = filtered_review_df.join(meta_df, on='Parent ASIN', how='inner')\n",
    "\n",
    "merged_df.show()"
   ]
  },
  {
   "cell_type": "code",
   "execution_count": 25,
   "metadata": {},
   "outputs": [
    {
     "name": "stderr",
     "output_type": "stream",
     "text": [
      "[Stage 35:==============================>                          (8 + 7) / 15]\r"
     ]
    },
    {
     "name": "stdout",
     "output_type": "stream",
     "text": [
      "Number of rows: 19726191\n"
     ]
    },
    {
     "name": "stderr",
     "output_type": "stream",
     "text": [
      "                                                                                \r"
     ]
    }
   ],
   "source": [
    "print(\"Number of rows:\", merged_df.count())"
   ]
  },
  {
   "cell_type": "code",
   "execution_count": 26,
   "metadata": {},
   "outputs": [
    {
     "name": "stdout",
     "output_type": "stream",
     "text": [
      "['Parent ASIN', 'User ID', 'ASIN', 'Review Title', 'Review Text', 'Rating', 'Verified Purchase', 'timestamp', 'Main Category', 'Product Title', 'Average Rating', 'Rating Number', 'Images', 'Categories', 'Text Data']\n"
     ]
    }
   ],
   "source": [
    "print(merged_df.columns)"
   ]
  },
  {
   "cell_type": "code",
   "execution_count": null,
   "metadata": {},
   "outputs": [],
   "source": [
    "merged_df.write.mode(\"overwrite\").parquet(\"Cell_Phones_and_Accessories.parquet\", compression=\"SNAPPY\")"
   ]
  },
  {
   "cell_type": "code",
   "execution_count": null,
   "metadata": {},
   "outputs": [],
   "source": []
  }
 ],
 "metadata": {
  "kernelspec": {
   "display_name": "Python 3",
   "language": "python",
   "name": "python3"
  },
  "language_info": {
   "codemirror_mode": {
    "name": "ipython",
    "version": 3
   },
   "file_extension": ".py",
   "mimetype": "text/x-python",
   "name": "python",
   "nbconvert_exporter": "python",
   "pygments_lexer": "ipython3",
   "version": "3.11.7"
  }
 },
 "nbformat": 4,
 "nbformat_minor": 2
}
